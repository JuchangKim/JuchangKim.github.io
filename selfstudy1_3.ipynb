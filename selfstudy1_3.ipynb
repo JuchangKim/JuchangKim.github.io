{
  "nbformat": 4,
  "nbformat_minor": 0,
  "metadata": {
    "colab": {
      "provenance": [],
      "authorship_tag": "ABX9TyNBphi+MDsokT2nbpq4pjqr",
      "include_colab_link": true
    },
    "kernelspec": {
      "name": "python3",
      "display_name": "Python 3"
    },
    "language_info": {
      "name": "python"
    }
  },
  "cells": [
    {
      "cell_type": "markdown",
      "metadata": {
        "id": "view-in-github",
        "colab_type": "text"
      },
      "source": [
        "<a href=\"https://colab.research.google.com/github/JuchangKim/JuchangKim.github.io/blob/main/selfstudy1_3.ipynb\" target=\"_parent\"><img src=\"https://colab.research.google.com/assets/colab-badge.svg\" alt=\"Open In Colab\"/></a>"
      ]
    },
    {
      "cell_type": "code",
      "execution_count": 24,
      "metadata": {
        "id": "obsuPFAwxrIq"
      },
      "outputs": [],
      "source": [
        "#import gdown\n",
        "#gdown.download('https://bit.ly/3eecMKZ',\n",
        " #              '남산도서관 장서 대출목록 (2021년 04월).csv', quiet=False)\n",
        "\n",
        "#with open('남산도서관 장서 대출목록 (2021년 04월).csv') as f:\n",
        "#  print(f.readline())\n",
        "\n",
        "#import chardet\n",
        "#with open('남산도서관 장서 대출목록 (2021년 04월).csv', mode='rb') as f:\n",
        "#    d = f.readline()\n",
        "#    print(chardet.detect(d))\n",
        "\n",
        "#with open('남산도서관 장서 대출목록 (2021년 04월).csv', encoding='EUC-KR') as f:\n",
        "#  print(f.readline())\n",
        "#  print(f.readline())\n",
        "\n",
        "#import pandas as pd\n",
        "#df = pd.read_csv('남산도서관 장서 대출목록 (2021년 04월).csv', encoding='EUC-KR')\n",
        "\n",
        "#df = pd.read_csv('남산도서관 장서 대출목록 (2021년 04월).csv', encoding='EUC-KR', low_memory=False)\n",
        "\n",
        "#df.head()\n",
        "\n",
        "#df.to_csv('ns_202104.csv')\n",
        "\n",
        "#with open('ns_202104.csv') as f:\n",
        " # for i in range(3):\n",
        "  #  print(f.readline(), end='')\n",
        "\n",
        "#ns_df = pd.read_csv('ns_202104.csv', low_memory=False)\n",
        "#ns_df.head()\n",
        "\n",
        "#ns_df = pd.read_csv('ns_202104.csv', index_col=0, low_memory=False)\n",
        "#ns_df.head()\n",
        "\n",
        "df.to_csv('ns_202104.csv', index=False)"
      ]
    }
  ]
}